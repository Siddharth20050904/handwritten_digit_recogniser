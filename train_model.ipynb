{
 "cells": [
  {
   "cell_type": "code",
   "execution_count": 1,
   "id": "1ba83438",
   "metadata": {},
   "outputs": [],
   "source": [
    "from keras.datasets import mnist\n",
    "from model import Layer, NeuralNetwork\n",
    "import numpy as np\n",
    "import tensorflow as tf"
   ]
  },
  {
   "cell_type": "code",
   "execution_count": 2,
   "id": "699bd4d6",
   "metadata": {},
   "outputs": [
    {
     "name": "stdout",
     "output_type": "stream",
     "text": [
      "Training images shape: (60000, 28, 28)\n",
      "Training labels shape: (60000,)\n",
      "Testing images shape: (10000, 28, 28)\n",
      "Testing labels shape: (10000,)\n"
     ]
    }
   ],
   "source": [
    "# Load the training and testing sets\n",
    "(train_images, train_labels), (test_images, test_labels) = mnist.load_data()\n",
    "\n",
    "# Print the shapes to verify\n",
    "print(f\"Training images shape: {train_images.shape}\")\n",
    "print(f\"Training labels shape: {train_labels.shape}\")\n",
    "print(f\"Testing images shape: {test_images.shape}\")\n",
    "print(f\"Testing labels shape: {test_labels.shape}\")"
   ]
  },
  {
   "cell_type": "code",
   "execution_count": 3,
   "id": "d113add1",
   "metadata": {},
   "outputs": [],
   "source": [
    "train_images = train_images.reshape(train_images.shape[0],-1)/255\n",
    "train_labels = train_labels.reshape(-1, 1)\n",
    "training_data = np.concatenate((train_images, train_labels), axis=1)\n",
    "\n",
    "dataset = tf.data.Dataset.from_tensor_slices(training_data)\n",
    "batched_data = dataset.batch(batch_size=100)"
   ]
  },
  {
   "cell_type": "code",
   "execution_count": 4,
   "id": "5cb62ae4",
   "metadata": {},
   "outputs": [],
   "source": [
    "def cross_entropy(y_pred, y_true):\n",
    "    epsilon = 1e-12\n",
    "    y_pred = np.clip(y_pred, epsilon, 1. - epsilon)\n",
    "    return -np.sum(y_true * np.log(y_pred))\n",
    "\n",
    "def d_cross_entropy(y_pred, y_true):\n",
    "    epsilon = 1e-12\n",
    "    y_pred = np.clip(y_pred, epsilon, 1. - epsilon)\n",
    "    return -(y_true / y_pred)"
   ]
  },
  {
   "cell_type": "code",
   "execution_count": 5,
   "id": "2035e89b",
   "metadata": {},
   "outputs": [],
   "source": [
    "layer1 = Layer(784, 64, activation='relu')\n",
    "layer2 = Layer(64, 32, activation='relu')\n",
    "layer3 = Layer(32,10,activation='softmax')"
   ]
  },
  {
   "cell_type": "code",
   "execution_count": 6,
   "id": "2873c144",
   "metadata": {},
   "outputs": [
    {
     "name": "stdout",
     "output_type": "stream",
     "text": [
      "Average Cost for epoch 1: 0.2403582843748576\n",
      "Average Cost for epoch 2: 0.12416441966374471\n",
      "Average Cost for epoch 3: 0.0954003057459882\n",
      "Average Cost for epoch 4: 0.08191441771402529\n",
      "Average Cost for epoch 5: 0.06979456812197284\n",
      "Average Cost for epoch 6: 0.062400110960592156\n",
      "Average Cost for epoch 7: 0.057536780653717166\n",
      "Average Cost for epoch 8: 0.05289985111021666\n",
      "Average Cost for epoch 9: 0.052732182205348116\n",
      "Average Cost for epoch 10: 0.04992760923332009\n",
      "Average Cost for epoch 11: 0.044973980872036294\n",
      "Average Cost for epoch 12: 0.041378553535727766\n",
      "Average Cost for epoch 13: 0.039959247581745586\n",
      "Average Cost for epoch 14: 0.037565615872332994\n"
     ]
    },
    {
     "ename": "KeyboardInterrupt",
     "evalue": "",
     "output_type": "error",
     "traceback": [
      "\u001b[1;31m---------------------------------------------------------------------------\u001b[0m",
      "\u001b[1;31mKeyboardInterrupt\u001b[0m                         Traceback (most recent call last)",
      "Cell \u001b[1;32mIn[6], line 17\u001b[0m\n\u001b[0;32m     15\u001b[0m x_i \u001b[38;5;241m=\u001b[39m np\u001b[38;5;241m.\u001b[39mreshape(X[i], (\u001b[38;5;241m-\u001b[39m\u001b[38;5;241m1\u001b[39m, \u001b[38;5;241m1\u001b[39m))\n\u001b[0;32m     16\u001b[0m y_i \u001b[38;5;241m=\u001b[39m np\u001b[38;5;241m.\u001b[39mreshape(y[i], (\u001b[38;5;241m-\u001b[39m\u001b[38;5;241m1\u001b[39m, \u001b[38;5;241m1\u001b[39m))\n\u001b[1;32m---> 17\u001b[0m activation1 \u001b[38;5;241m=\u001b[39m \u001b[43mlayer1\u001b[49m\u001b[38;5;241;43m.\u001b[39;49m\u001b[43mforward\u001b[49m\u001b[43m(\u001b[49m\u001b[43mnp\u001b[49m\u001b[38;5;241;43m.\u001b[39;49m\u001b[43mreshape\u001b[49m\u001b[43m(\u001b[49m\u001b[43mX\u001b[49m\u001b[43m[\u001b[49m\u001b[43mi\u001b[49m\u001b[43m]\u001b[49m\u001b[43m,\u001b[49m\u001b[43m \u001b[49m\u001b[43m(\u001b[49m\u001b[38;5;241;43m-\u001b[39;49m\u001b[38;5;241;43m1\u001b[39;49m\u001b[43m,\u001b[49m\u001b[38;5;241;43m1\u001b[39;49m\u001b[43m)\u001b[49m\u001b[43m)\u001b[49m\u001b[43m)\u001b[49m\n\u001b[0;32m     18\u001b[0m activation2 \u001b[38;5;241m=\u001b[39m layer2\u001b[38;5;241m.\u001b[39mforward(activation1)\n\u001b[0;32m     19\u001b[0m activation3 \u001b[38;5;241m=\u001b[39m layer3\u001b[38;5;241m.\u001b[39mforward(activation2)\n",
      "File \u001b[1;32mc:\\Users\\hp\\Documents\\MyProjects\\MLProjects\\digits\\model.py:27\u001b[0m, in \u001b[0;36mLayer.forward\u001b[1;34m(self, prev)\u001b[0m\n\u001b[0;32m     25\u001b[0m \u001b[38;5;28;01mdef\u001b[39;00m \u001b[38;5;21mforward\u001b[39m(\u001b[38;5;28mself\u001b[39m, prev):\n\u001b[0;32m     26\u001b[0m     \u001b[38;5;28mself\u001b[39m\u001b[38;5;241m.\u001b[39mprev \u001b[38;5;241m=\u001b[39m prev\n\u001b[1;32m---> 27\u001b[0m     \u001b[38;5;28mself\u001b[39m\u001b[38;5;241m.\u001b[39mz \u001b[38;5;241m=\u001b[39m \u001b[43mnp\u001b[49m\u001b[38;5;241;43m.\u001b[39;49m\u001b[43mdot\u001b[49m\u001b[43m(\u001b[49m\u001b[38;5;28;43mself\u001b[39;49m\u001b[38;5;241;43m.\u001b[39;49m\u001b[43mweights\u001b[49m\u001b[43m,\u001b[49m\u001b[43m \u001b[49m\u001b[43mprev\u001b[49m\u001b[43m)\u001b[49m \u001b[38;5;241m+\u001b[39m \u001b[38;5;28mself\u001b[39m\u001b[38;5;241m.\u001b[39mbias\n\u001b[0;32m     28\u001b[0m     \u001b[38;5;28;01mif\u001b[39;00m \u001b[38;5;28mself\u001b[39m\u001b[38;5;241m.\u001b[39mactivation\u001b[38;5;241m==\u001b[39m\u001b[38;5;124m'\u001b[39m\u001b[38;5;124mrelu\u001b[39m\u001b[38;5;124m'\u001b[39m:\n\u001b[0;32m     29\u001b[0m         \u001b[38;5;28mself\u001b[39m\u001b[38;5;241m.\u001b[39ma \u001b[38;5;241m=\u001b[39m relu(\u001b[38;5;28mself\u001b[39m\u001b[38;5;241m.\u001b[39mz)\n",
      "\u001b[1;31mKeyboardInterrupt\u001b[0m: "
     ]
    }
   ],
   "source": [
    "for epoch in range(20):\n",
    "    cost_history = []\n",
    "    for j,data in enumerate(batched_data.as_numpy_iterator()):\n",
    "        X=data[:, 0:784]\n",
    "        y=data[:, 784]\n",
    "        y = np.reshape(y,(1,-1))\n",
    "        y = y.flatten()\n",
    "        y = np.eye(10)[y.astype(int)]\n",
    "        \n",
    "        avg_cost = 0\n",
    "        learning_rate = 0.01\n",
    "        \n",
    "        for i in range(X.shape[0]):\n",
    "            # print(np.reshape(X[i], (-1,1)).shape)\n",
    "            x_i = np.reshape(X[i], (-1, 1))\n",
    "            y_i = np.reshape(y[i], (-1, 1))\n",
    "            activation1 = layer1.forward(np.reshape(X[i], (-1,1)))\n",
    "            activation2 = layer2.forward(activation1)\n",
    "            activation3 = layer3.forward(activation2)\n",
    "            \n",
    "            cost = cross_entropy(activation3, y_i)\n",
    "            cost_history.append(cost)\n",
    "            \n",
    "            d_a3 = activation3 - y_i\n",
    "            d_a2 = layer3.backward(d_a3, learning_rate)\n",
    "            d_a1 = layer2.backward(d_a2, learning_rate)\n",
    "            _ = layer1.backward(d_a1, learning_rate)\n",
    "            \n",
    "    avg_cost = np.average(cost_history)\n",
    "    print(f\"Average Cost for epoch {epoch+1}: {avg_cost}\")\n",
    "            "
   ]
  },
  {
   "cell_type": "code",
   "execution_count": 7,
   "id": "c55e1cbc",
   "metadata": {},
   "outputs": [
    {
     "name": "stdout",
     "output_type": "stream",
     "text": [
      "Accuracy: 96.55\n"
     ]
    }
   ],
   "source": [
    "correct = 0\n",
    "total = 0\n",
    "\n",
    "for i in range(test_images.shape[0]):\n",
    "    activation1 = layer1.forward(np.reshape(test_images[i], (-1,1)))\n",
    "    activation2 = layer2.forward(activation1)\n",
    "    activation3 = layer3.forward(activation2)\n",
    "    \n",
    "    y_pred = np.argmax(activation3)\n",
    "    if y_pred == test_labels[i]: \n",
    "        correct+=1\n",
    "    total+=1\n",
    "\n",
    "print(f\"Accuracy: {correct * 100 / total}\")\n",
    "    "
   ]
  },
  {
   "cell_type": "code",
   "execution_count": 8,
   "id": "91462949",
   "metadata": {},
   "outputs": [],
   "source": [
    "model = NeuralNetwork()\n",
    "model.add(layer1)\n",
    "model.add(layer2)\n",
    "model.add(layer3)\n",
    "\n",
    "model.save(\"model.npz\")"
   ]
  }
 ],
 "metadata": {
  "kernelspec": {
   "display_name": "Python 3",
   "language": "python",
   "name": "python3"
  },
  "language_info": {
   "codemirror_mode": {
    "name": "ipython",
    "version": 3
   },
   "file_extension": ".py",
   "mimetype": "text/x-python",
   "name": "python",
   "nbconvert_exporter": "python",
   "pygments_lexer": "ipython3",
   "version": "3.10.11"
  }
 },
 "nbformat": 4,
 "nbformat_minor": 5
}
